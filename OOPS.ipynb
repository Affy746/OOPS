{
  "nbformat": 4,
  "nbformat_minor": 0,
  "metadata": {
    "colab": {
      "provenance": []
    },
    "kernelspec": {
      "name": "python3",
      "display_name": "Python 3"
    },
    "language_info": {
      "name": "python"
    }
  },
  "cells": [
    {
      "cell_type": "markdown",
      "source": [
        "**#THEORY **\n",
        "\n",
        "(01) What is Object-Oriented Programming (OOP)?\n",
        "\n",
        "Ans: OPPS is a programming paradigm based on the concept of 'objects', which contain data and code. It promotes code organization, reusability, and maintainbililty.\n",
        "\n",
        "\n",
        "\n",
        "\n",
        "(02) What is a class in OOP?\n",
        "\n",
        "Ans: A class is a blueprint for creating objects. It defines the attributes and methods that objects of that class will have.\n",
        "\n",
        "\n",
        "\n",
        "(03) What is an object in OOP?\n",
        "\n",
        "Ans: An object is an instantce of a class. It's a conreate entity created from the class blueprint, with it's own speific values for the attributes.\n",
        "\n",
        "\n",
        "\n",
        "\n",
        "(04) What is the difference between abstraction and encapsulation?\n",
        "\n",
        "Ans: Abstraction hides complex implementation details, presenting a simplified interface. Encapsulation bundles data and methods that operate on that withina class, protecting it from outside access.\n",
        "\n",
        "\n",
        "\n",
        "\n",
        "(05) What are dunder methods in Python?\n",
        "\n",
        "Ans: Dunder methods are special methods in python, like __init__ or __str__ , that provides functionality to classes.\n",
        "\n",
        "\n",
        "\n",
        "\n",
        "(06) Explain the concept of inheritance in OOPH?\n",
        "\n",
        "Ans: Inheritance allows a class to inherit attributes and methods from another class, promoting code reuse and establishing an \"is-a\" relationship.\n",
        "\n",
        "\n",
        "\n",
        "\n",
        "(09) What is polymorphism in OOP?\n",
        "\n",
        "Ans: Polymorphism allows objects of different classes to be treated as objects of a common type, enhabling flexibility and dynamic behaviour.\n",
        "\n",
        "\n",
        "\n",
        "\n",
        "(10) How is encapsulation achieved in Python?\n",
        "\n",
        "Ans: Encapsulation is achieved using private attributes and providing public methods to access and modify them, controlling data acces.\n",
        "\n",
        "\n",
        "\n",
        "\n",
        "(11) What is a constructor in Python?\n",
        "\n",
        "Ans: A constructor is a special method that is automatically called when an object is created, initializing it's attributes.\n",
        "\n",
        "\n",
        "\n",
        "\n",
        "(12) What are class and static methods in Python?\n",
        "\n",
        "Ans: Clas methods operate on the class itself, while static methods are independent of both the class and it's instances.\n",
        "\n",
        "\n",
        "\n",
        "\n",
        "(13) What is method overloading in Python>?\n",
        "\n",
        "Ans: Python doesn't support traditional method overloading. However, it can be simulated using defalut arguments.\n",
        "\n",
        "\n",
        "\n",
        "\n",
        "(14) What is method overriding in OOP?\n",
        "\n",
        "Ans: Method overriding allows a child class to provide a specific implementation for a method that is already defined in it's parent class.\n",
        "\n",
        "\n",
        "\n",
        "\n",
        "(15) What is a property decorator in Python?\n",
        "\n",
        "Ans: A properly decorator allows you to define methods that act like attributes, providing controlled access to class data.\n",
        "\n",
        "\n",
        "\n",
        "\n",
        "(16) Why is polymorphism important in OOP?\n",
        "\n",
        "Ans: Polymorphism allows for flexibility and code extensibility as objects of different classes can be used interchangeably based on a common interface.\n",
        "\n",
        "\n",
        "\n",
        "\n",
        "(15) What is an abstract class in Python?\n",
        "\n",
        "Ans: An abstract class cannot be instantiated directly and serves as a blueprint for other classes, often defining abstract methods that must be implemented by subclasses.\n",
        "\n",
        "\n",
        "\n",
        "\n",
        "(16) What are the advantages of OOP?\n",
        "\n",
        "Ans: OOPS provides code reusability, modularity, data hiding, and flexibility, making it easier to manage and maintain complex software projects.\n",
        "\n",
        "\n",
        "\n",
        "\n",
        "(17) What is the difference between a class variable and an instance variable?\n",
        "\n",
        "Ans: Class variables are shared among all instances of a class, while instance variables are unique to each objects.\n",
        "\n",
        "\n",
        "\n",
        "\n",
        "(18) What is multiple inheritance in Python?\n",
        "\n",
        "Ans: Multiple inheritance allows a class to inherit from multiple parent classes, combining their functionalities.\n",
        "\n",
        "\n",
        "\n",
        "\n",
        "(19) Explain the purpose of ‘’__str__’ and ‘__repr__’ ‘ methods in Python?\n",
        "\n",
        "Ans: __str__ provides a user-friendly string representation of an object, while __repr__ is inteded for developers and should be umambiguous.\n",
        "\n",
        "\n",
        "\n",
        "\n",
        "\n",
        "(20) What is the significance of the ‘super()’ function in Python?\n",
        "\n",
        "Ans: super() allows you to access and call methods from a parent class, especially useful in inheritance scenarios.\n",
        "\n",
        "\n",
        "\n",
        "\n",
        "\n",
        "(21) What is the significance of the __del__ method in Python?\n",
        "\n",
        "Ans: The __del__ method is a destructor, called when an object is about to be destroyed, allowing for cleanup operations.\n",
        "\n",
        "\n",
        "\n",
        "\n",
        "\n",
        "(22) What is the difference between @staticmethod and @classmethod in Python?\n",
        "\n",
        "Ans: @staticmethod defines methods that don't need access to the class or instance, while @classmethod methods receive the class as the first argument.\n",
        "\n",
        "\n",
        "\n",
        "\n",
        "\n",
        "(23) How does polymorphism work in Python with inheritance?\n",
        "\n",
        "Ans: Polymorphism in python with inheritance works through method overriding. Subclasses can override methods of their parent class, providing specific behaviour.\n",
        "\n",
        "\n",
        "\n",
        "\n",
        "\n",
        "(24) What is method chaining in Python OOP?\n",
        "\n",
        "Ans: Method chaining allows you to call multiple mehtods on an object in a single line, improving code readability.\n",
        "\n",
        "\n",
        "\n",
        "\n",
        "\n",
        "(25) What is the purpose of the __call__ method in Python?\n",
        "\n",
        "Ans: The __call__ method allows you to make an object callable like a function, enabling objects to be treated as functions."
      ],
      "metadata": {
        "id": "KasGhCHtXon8"
      }
    },
    {
      "cell_type": "code",
      "execution_count": 21,
      "metadata": {
        "id": "s_t0ZDoqLhNz",
        "colab": {
          "base_uri": "https://localhost:8080/"
        },
        "outputId": "ad2b0bf1-afaf-449f-f2a8-a6c5b11c00af"
      },
      "outputs": [
        {
          "output_type": "stream",
          "name": "stdout",
          "text": [
            "Generic animal sound\n",
            "Bark!\n"
          ]
        }
      ],
      "source": [
        "#PRACTICAL\n",
        "\n",
        "''' (1) Create a parent class Animal with a method speak() that prints a generic message. Create a child class Dog\n",
        "that overrides the speak() method to print \"Bark!\".\n",
        "'''\n",
        "class Animal:\n",
        "    def speak(self):\n",
        "        print(\"Generic animal sound\")\n",
        "\n",
        "class Dog(Animal):\n",
        "    def speak(self):\n",
        "        print(\"Bark!\")\n",
        "\n",
        "#Example\n",
        "animal = Animal()\n",
        "animal.speak()\n",
        "\n",
        "dog = Dog()\n",
        "dog.speak()"
      ]
    },
    {
      "cell_type": "code",
      "source": [
        "'''\n",
        "(2) Write a program to create an abstract class Shape with a method area(). Derive classes Circle and Rectangle\n",
        "from it and implement the area() method in both.\n",
        "'''\n",
        "from abc import ABC, abstractmethod\n",
        "\n",
        "class Shape(ABC):\n",
        "    @abstractmethod\n",
        "    def area(self):\n",
        "        pass\n",
        "\n",
        "class Circle(Shape):\n",
        "    def __init__(self, radius):\n",
        "        self.radius = radius\n",
        "\n",
        "    def area(self):\n",
        "      return math.pi * self.radius**2\n",
        "\n",
        "class Rectangle(Shape):\n",
        "    def __init__(self, length, width):\n",
        "        self.length = length\n",
        "        self.width = width\n",
        "\n",
        "    def area(self):\n",
        "        return self.length * self.width"
      ],
      "metadata": {
        "id": "hjfUVqe9MEJ8"
      },
      "execution_count": 4,
      "outputs": []
    },
    {
      "cell_type": "code",
      "source": [
        "'''\n",
        "(3) Implement a multi-level inheritance scenario where a class Vehicle has an attribute type. Derive a class Car\n",
        "and further derive a class ElectricCar that adds a battery attribute.\n",
        "'''\n",
        "class Vehicle:\n",
        "    def __init__(self, vehicle_type):\n",
        "        self.type = vehicle_type\n",
        "\n",
        "class Car(Vehicle):\n",
        "    def __init__(self, car_type):\n",
        "        super().__init__(\"Car\")\n",
        "        self.car_type = car_type\n",
        "\n",
        "class ElectricCar(Car):\n",
        "    def __init__(self, car_type, battery_capacity):\n",
        "        super().__init__(car_type)\n",
        "        self.battery_capacity = battery_capacity\n",
        "\n",
        "#Example\n",
        "electric_car = ElectricCar(\"Sedan\", 75)\n",
        "print(f\"Type: {electric_car.type}, Car Type: {electric_car.car_type}, Battery Capacity: {electric_car.battery_capacity} kWh\")\n",
        "\n"
      ],
      "metadata": {
        "colab": {
          "base_uri": "https://localhost:8080/"
        },
        "id": "pyxm_x1IOnMa",
        "outputId": "b228be85-121d-42a3-9f8d-48cbe922b1c3"
      },
      "execution_count": null,
      "outputs": [
        {
          "output_type": "stream",
          "name": "stdout",
          "text": [
            "Type: Car, Car Type: Sedan, Battery Capacity: 75 kWh\n"
          ]
        }
      ]
    },
    {
      "cell_type": "code",
      "source": [
        "'''\n",
        "(4) Demonstrate polymorphism by creating a base class Bird with a method fly(). Create two derived classes\n",
        "Sparrow and Penguin that override the fly() method.\n",
        "'''\n",
        "class Bird:\n",
        "    def fly(self):\n",
        "        print(\"Generic bird flying\")\n",
        "\n",
        "class Sparrow(Bird):\n",
        "    def fly(self):\n",
        "        print(\"Sparrow flying\")\n",
        "\n",
        "class Penguin(Bird):\n",
        "    def fly(self):\n",
        "        print(\"Penguin cannot fly\")\n",
        "\n",
        "#Example\n",
        "bird = Bird()\n",
        "bird.fly()\n",
        "\n",
        "sparrow = Sparrow()\n",
        "sparrow.fly()\n",
        "\n",
        "penguin = Penguin()\n",
        "penguin.fly()\n"
      ],
      "metadata": {
        "id": "52PGZbP-OjeJ",
        "colab": {
          "base_uri": "https://localhost:8080/"
        },
        "outputId": "eeff56b9-a219-4608-db9b-9dab8fb29360"
      },
      "execution_count": 5,
      "outputs": [
        {
          "output_type": "stream",
          "name": "stdout",
          "text": [
            "Generic bird flying\n",
            "Sparrow flying\n",
            "Penguin cannot fly\n"
          ]
        }
      ]
    },
    {
      "cell_type": "code",
      "source": [
        "'''\n",
        "(5) Write a program to demonstrate encapsulation by creating a class BankAccount with private attributes\n",
        "balance and methods to deposit, withdraw, and check balance.\n",
        "'''\n",
        "class BankAccount:\n",
        "    def __init__(self, initial_balance):\n",
        "        self.__balance = initial_balance\n",
        "\n",
        "    def deposit(self, amount):\n",
        "        if amount > 0:\n",
        "            self.__balance += amount\n",
        "\n",
        "    def withdraw(self, amount):\n",
        "        if 0 < amount <= self.__balance:\n",
        "            self.__balance -= amount\n",
        "\n",
        "    def check_balance(self):\n",
        "        return self.__balance\n",
        "\n",
        "#Example\n",
        "account = BankAccount(1000)\n",
        "account.deposit(500)\n",
        "account.withdraw(200)\n",
        "print(f\"Current Balance: ${account.check_balance()}\")"
      ],
      "metadata": {
        "id": "ZjrKBUvdNkAG",
        "colab": {
          "base_uri": "https://localhost:8080/"
        },
        "outputId": "2ebadad5-2254-4f2c-8355-64123e57958f"
      },
      "execution_count": 6,
      "outputs": [
        {
          "output_type": "stream",
          "name": "stdout",
          "text": [
            "Current Balance: $1300\n"
          ]
        }
      ]
    },
    {
      "cell_type": "code",
      "source": [
        "'''\n",
        "(6) Demonstrate runtime polymorphism using a method play() in a base class Instrument. Derive classes Guitar\n",
        "and Piano that implement their own version of play().\n",
        "'''\n",
        "class Instrument:\n",
        "    def play(self):\n",
        "        pass\n",
        "\n",
        "class Guitar(Instrument):\n",
        "    def play(self):\n",
        "        print(\"Playing guitar\")\n",
        "\n",
        "class Piano(Instrument):\n",
        "    def play(self):\n",
        "        print(\"Playing piano\")\n",
        "\n",
        "#Example\n",
        "instrument = Instrument()\n",
        "instrument.play()\n",
        "\n",
        "guitar = Guitar()\n",
        "guitar.play()\n",
        "\n",
        "piano = Piano()\n",
        "piano.play()"
      ],
      "metadata": {
        "id": "L4X72oFHNlBx",
        "colab": {
          "base_uri": "https://localhost:8080/"
        },
        "outputId": "ea53a99c-242f-41ec-c276-940edbeea83f"
      },
      "execution_count": 7,
      "outputs": [
        {
          "output_type": "stream",
          "name": "stdout",
          "text": [
            "Playing guitar\n",
            "Playing piano\n"
          ]
        }
      ]
    },
    {
      "cell_type": "code",
      "source": [
        "'''\n",
        "(7) Create a class MathOperations with a class method add_numbers() to add two numbers and a static\n",
        "method subtract_numbers() to subtract two numbers.\n",
        "'''\n",
        "class MathOperations:\n",
        "    @classmethod\n",
        "    def add_numbers(cls, a, b):\n",
        "        return a + b\n",
        "\n",
        "    @staticmethod\n",
        "    def subtract_numbers(a, b):\n",
        "        return a - b\n",
        "\n",
        "#Example\n",
        "result1 = MathOperations.add_numbers(5, 3)\n",
        "result2 = MathOperations.subtract_numbers(10, 4)\n",
        "print(result1)\n",
        "print(result2)\n"
      ],
      "metadata": {
        "id": "7JEllqdhNlMh",
        "colab": {
          "base_uri": "https://localhost:8080/"
        },
        "outputId": "f52b99aa-1073-4bc1-e6c4-f34b3322bc32"
      },
      "execution_count": 8,
      "outputs": [
        {
          "output_type": "stream",
          "name": "stdout",
          "text": [
            "8\n",
            "6\n"
          ]
        }
      ]
    },
    {
      "cell_type": "code",
      "source": [
        "'''\n",
        "(8) Implement a class Person with a class method to count the total number of persons created.\n",
        "'''\n",
        "class Person:\n",
        "    count = 0\n",
        "\n",
        "    def __init__(self):\n",
        "        Person.count += 1\n",
        "\n",
        "    @classmethod\n",
        "    def total_persons(cls):\n",
        "        return cls.count\n",
        "\n",
        "#Example\n",
        "person1 = Person()\n",
        "person2 = Person()\n",
        "print(f\"Total Persons: {Person.total_persons()}\")\n"
      ],
      "metadata": {
        "id": "0i3vcitrNlYa",
        "colab": {
          "base_uri": "https://localhost:8080/"
        },
        "outputId": "85f694b6-df90-4517-e3d6-cd0c8ba04761"
      },
      "execution_count": 9,
      "outputs": [
        {
          "output_type": "stream",
          "name": "stdout",
          "text": [
            "Total Persons: 2\n"
          ]
        }
      ]
    },
    {
      "cell_type": "code",
      "source": [
        "'''\n",
        "(9) Write a class Fraction with attributes numerator and denominator. Override the str method to display the\n",
        "fraction as \"numerator/denominator\".\n",
        "'''\n",
        "class Fraction:\n",
        "    def __init__(self, numerator, denominator):\n",
        "        self.numerator = numerator\n",
        "        self.denominator = denominator\n",
        "\n",
        "    def __str__(self):\n",
        "        return f\"{self.numerator}/{self.denominator}\"\n",
        "\n",
        "#Example\n",
        "fraction = Fraction(3, 4)\n",
        "print(fraction)\n"
      ],
      "metadata": {
        "id": "G2ITuHkmNljj",
        "colab": {
          "base_uri": "https://localhost:8080/"
        },
        "outputId": "6f96dd09-aebc-49a4-831a-535807d98777"
      },
      "execution_count": 10,
      "outputs": [
        {
          "output_type": "stream",
          "name": "stdout",
          "text": [
            "3/4\n"
          ]
        }
      ]
    },
    {
      "cell_type": "code",
      "source": [
        "'''\n",
        "(10) Demonstrate operator overloading by creating a class Vector and overriding the add method to add two\n",
        "vectors.\n",
        "'''\n",
        "class Vector:\n",
        "    def __init__(self, x, y):\n",
        "        self.x = x\n",
        "        self.y = y\n",
        "\n",
        "    def __add__(self, other):\n",
        "        return Vector(self.x + other.x, self.y + other.y)\n",
        "\n",
        "    def __str__(self):\n",
        "        return f\"({self.x}, {self.y})\"\n",
        "\n",
        "#Example\n",
        "vector1 = Vector(1, 2)\n",
        "vector2 = Vector(3, 4)\n",
        "result = vector1 + vector2\n",
        "print(result)\n",
        "\n"
      ],
      "metadata": {
        "colab": {
          "base_uri": "https://localhost:8080/"
        },
        "id": "0MWSFD6ENltt",
        "outputId": "8107b271-3820-4964-9152-79c7a0323cb6"
      },
      "execution_count": null,
      "outputs": [
        {
          "output_type": "stream",
          "name": "stdout",
          "text": [
            "(4, 6)\n"
          ]
        }
      ]
    },
    {
      "cell_type": "code",
      "source": [
        "'''\n",
        "(11) Create a class Person with attributes name and age. Add a method greet() that prints \"Hello, my name is\n",
        "{name} and I am {age} years old.\"\n",
        "'''\n",
        "class Person:\n",
        "    def __init__(self, name, age):\n",
        "        self.name = name\n",
        "        self.age = age\n",
        "\n",
        "    def greet(self):\n",
        "        print(f\"Hello, my name is reem and I am 40 years old.\")\n",
        "\n",
        "#Example\n",
        "person = Person(\"John Doe\", 30)\n",
        "person.greet()\n"
      ],
      "metadata": {
        "colab": {
          "base_uri": "https://localhost:8080/"
        },
        "id": "n_56FxkXNl4r",
        "outputId": "4ac16a48-1d2f-4716-a741-e5b88b361d9c"
      },
      "execution_count": null,
      "outputs": [
        {
          "output_type": "stream",
          "name": "stdout",
          "text": [
            "Hello, my name is reem and I am 40 years old.\n"
          ]
        }
      ]
    },
    {
      "cell_type": "code",
      "source": [
        "'''\n",
        "(12)Implement a class Student with attributes name and grades. Create a method average_grade() to compute\n",
        "the average of the grades.\n",
        "'''\n",
        "\n",
        "class Student:\n",
        "    def __init__(self, name, grades):\n",
        "        self.name = name\n",
        "        self.grades = grades\n",
        "\n",
        "    def average_grade(self):\n",
        "        return sum(self.grades) / len(self.grades)\n",
        "\n",
        "#Example\n",
        "student = Student(\"John Doe\", [85, 90, 78, 92])\n",
        "print(f\"Average Grade: {student.average_grade():.2f}\")\n",
        "\n"
      ],
      "metadata": {
        "colab": {
          "base_uri": "https://localhost:8080/"
        },
        "id": "K2fcJP7mNmDN",
        "outputId": "cb85974e-cc4d-46da-dc6c-630b5fc21e4f"
      },
      "execution_count": null,
      "outputs": [
        {
          "output_type": "stream",
          "name": "stdout",
          "text": [
            "Average Grade: 86.25\n"
          ]
        }
      ]
    },
    {
      "cell_type": "code",
      "source": [
        "'''\n",
        "(13) Create a class Rectangle with methods set_dimensions() to set the dimensions and area() to calculate the\n",
        "area.\n",
        "'''\n",
        "class Rectangle:\n",
        "    def __init__(self, length, width):\n",
        "        self.length = length\n",
        "        self.width = width\n",
        "\n",
        "    def set_dimensions(self, length, width):\n",
        "        self.length = length\n",
        "        self.width = width\n",
        "\n",
        "    def area(self):\n",
        "        return self.length * self.width\n",
        "\n",
        "#Example\n",
        "rectangle = Rectangle(5, 10)\n",
        "print(f\"Length: {rectangle.length}, Width: {rectangle.width}, Area: {rectangle.area()}\")\n",
        "\n"
      ],
      "metadata": {
        "colab": {
          "base_uri": "https://localhost:8080/"
        },
        "id": "GlLGS5dmNmNV",
        "outputId": "18c0eedb-11d5-4317-f9a2-b13c1c8cf4e1"
      },
      "execution_count": null,
      "outputs": [
        {
          "output_type": "stream",
          "name": "stdout",
          "text": [
            "Length: 5, Width: 10, Area: 50\n"
          ]
        }
      ]
    },
    {
      "cell_type": "code",
      "source": [
        "'''\n",
        "(14) Create a class Employee with a method calculate_salary() that computes the salary based on hours worked\n",
        "and hourly rate. Create a derived class Manager that adds a bonus to the salary.\n",
        "'''\n",
        "class Employee:\n",
        "    def __init__(self, name, hours_worked, hourly_rate):\n",
        "        self.name = name\n",
        "        self.hours_worked = hours_worked\n",
        "        self.hourly_rate = hourly_rate\n",
        "\n",
        "    def calculate_salary(self):\n",
        "        return self.hours_worked * self.hourly_rate\n",
        "\n",
        "    def __str__(self):\n",
        "        return f\"Employee: {self.name}\\nHours Worked: {self.hours_worked}\\nHourly Rate: ${self.hourly_rate:.2f}\\nSalary: ${self.calculate_salary():.2f}\"\n",
        "\n",
        "class Manager(Employee):\n",
        "        def __init__(self, name, hours_worked, hourly_rate, bonus):\n",
        "            super().__init__(name, hours_worked, hourly_rate)\n",
        "            self.bonus = bonus\n",
        "#Example\n",
        "employee = Employee(\"John Doe\", 40, 15.50)\n",
        "print(employee)\n",
        "\n",
        "manager = Manager(\"Jane Smith\", 40, 15.50, 1000)\n",
        "print(manager)\n",
        "\n"
      ],
      "metadata": {
        "colab": {
          "base_uri": "https://localhost:8080/"
        },
        "id": "mGl2b0PBNmXc",
        "outputId": "717341eb-0015-4a00-b74d-16350cf5fa6c"
      },
      "execution_count": null,
      "outputs": [
        {
          "output_type": "stream",
          "name": "stdout",
          "text": [
            "Employee: John Doe\n",
            "Hours Worked: 40\n",
            "Hourly Rate: $15.50\n",
            "Salary: $620.00\n",
            "Employee: Jane Smith\n",
            "Hours Worked: 40\n",
            "Hourly Rate: $15.50\n",
            "Salary: $620.00\n"
          ]
        }
      ]
    },
    {
      "cell_type": "code",
      "source": [
        "'''\n",
        "(15) Create a class Product with attributes name, price, and quantity. Implement a method total_price() that\n",
        "calculates the total price of the product.\n",
        "'''\n",
        "class Product:\n",
        "    def __init__(self, name, price, quantity):\n",
        "        self.name = name\n",
        "        self.price = price\n",
        "        self.quantity = quantity\n",
        "\n",
        "    def total_price(self):\n",
        "        return self.price * self.quantity\n",
        "\n",
        "#Example\n",
        "product = Product(\"Laptop\", 999.99, 2)\n",
        "print(f\"Total Price: ${product.total_price():.2f}\")\n"
      ],
      "metadata": {
        "colab": {
          "base_uri": "https://localhost:8080/"
        },
        "id": "PdmRad8yNmk0",
        "outputId": "5e5299d6-e110-4fad-d5bc-60c999e5b307"
      },
      "execution_count": null,
      "outputs": [
        {
          "output_type": "stream",
          "name": "stdout",
          "text": [
            "Total Price: $1999.98\n"
          ]
        }
      ]
    },
    {
      "cell_type": "code",
      "source": [
        "'''\n",
        "(16) Create a class Animal with an abstract method sound(). Create two derived classes Cow and Sheep that\n",
        "implement the sound() method.\n",
        "'''\n",
        "\n",
        "class Animal:\n",
        "    def sound(self):\n",
        "        pass\n",
        "\n",
        "class Cow(Animal):\n",
        "    def sound(self):\n",
        "        return \"Moo!\"\n",
        "\n",
        "class Sheep(Animal):\n",
        "    def sound(self):\n",
        "        return \"Baaa!\"\n",
        "\n",
        "\n",
        "#Example\n",
        "cow = Cow()\n",
        "sheep = Sheep()\n",
        "print(cow.sound())\n",
        "print(sheep.sound())"
      ],
      "metadata": {
        "colab": {
          "base_uri": "https://localhost:8080/"
        },
        "id": "sMl8_nAtNmy0",
        "outputId": "e99c10eb-8c1c-4a80-bfc7-45c4fd49a913"
      },
      "execution_count": null,
      "outputs": [
        {
          "output_type": "stream",
          "name": "stdout",
          "text": [
            "Moo!\n",
            "Baaa!\n"
          ]
        }
      ]
    },
    {
      "cell_type": "code",
      "source": [
        "'''\n",
        "(17) Create a class Book with attributes title, author, and year_published. Add a method get_book_info() that\n",
        "returns a formatted string with the book's details.\n",
        "'''\n",
        "\n",
        "class Book:\n",
        "    def __init__(self, title, author, year_published):\n",
        "        self.title = title\n",
        "        self.author = author\n",
        "        self.year_published = year_published\n",
        "\n",
        "    def get_book_info(self):\n",
        "        return f\"Title: {self.title}\\nAuthor: {self.author}\\nYear Published: {self.year_published}\"\n",
        "\n",
        "#Example\n",
        "book = Book(\"The Great Gatsby\", \"F. Scott Fitzgerald\", 1925)\n",
        "print(book.get_book_info())"
      ],
      "metadata": {
        "colab": {
          "base_uri": "https://localhost:8080/"
        },
        "id": "ixK8BHWrNfBG",
        "outputId": "9db2a429-2582-4237-89e8-00a775709419"
      },
      "execution_count": null,
      "outputs": [
        {
          "output_type": "stream",
          "name": "stdout",
          "text": [
            "Title: The Great Gatsby\n",
            "Author: F. Scott Fitzgerald\n",
            "Year Published: 1925\n"
          ]
        }
      ]
    },
    {
      "cell_type": "code",
      "source": [
        "'''\n",
        "(18) Create a class House with attributes address and price. Create a derived class Mansion that adds an\n",
        "attribute number_of_rooms.\n",
        "'''\n",
        "class House:\n",
        "    def __init__(self, address, price):\n",
        "        self.address = address\n",
        "        self.price = price\n",
        "\n",
        "class Mansion(House):\n",
        "    def __init__(self, address, price, number_of_rooms):\n",
        "        super().__init__(address, price)\n",
        "        self.number_of_rooms = number_of_rooms\n",
        "\n",
        "#Example\n",
        "mansion = Mansion(\"123 Main St\", 250000, 8)\n",
        "print(f\"Address: {mansion.address}, Price: ${mansion.price}, Number of Rooms: {mansion.number_of_rooms}\")"
      ],
      "metadata": {
        "colab": {
          "base_uri": "https://localhost:8080/"
        },
        "id": "hRQEYiRwNRVy",
        "outputId": "07308b75-7f0a-4624-bddf-5cfe42fdce8a"
      },
      "execution_count": null,
      "outputs": [
        {
          "output_type": "stream",
          "name": "stdout",
          "text": [
            "Address: 123 Main St, Price: $250000, Number of Rooms: 8\n"
          ]
        }
      ]
    }
  ]
}